{
 "cells": [
  {
   "cell_type": "code",
   "execution_count": 1,
   "metadata": {},
   "outputs": [],
   "source": [
    "import warnings\n",
    "warnings.simplefilter(\"ignore\", DeprecationWarning)"
   ]
  },
  {
   "cell_type": "code",
   "execution_count": 2,
   "metadata": {},
   "outputs": [],
   "source": [
    "import os\n",
    "os.environ['PYSPARK_PYTHON'] = '/usr/bin/python3.5'"
   ]
  },
  {
   "cell_type": "code",
   "execution_count": 3,
   "metadata": {},
   "outputs": [],
   "source": [
    "import timeit\n",
    "import numpy as np"
   ]
  },
  {
   "cell_type": "code",
   "execution_count": 4,
   "metadata": {},
   "outputs": [],
   "source": [
    "import pyspark\n",
    "from pyspark import sql, SparkConf, SparkContext\n",
    "from pyspark.sql.functions import lit\n",
    "from pyspark.sql.session import SparkSession\n",
    "from pyspark.serializers import Serializer"
   ]
  },
  {
   "cell_type": "code",
   "execution_count": 5,
   "metadata": {},
   "outputs": [],
   "source": [
    "from pyspark.ml.feature import Tokenizer, RegexTokenizer, StopWordsRemover, HashingTF, IDF\n",
    "from pyspark.sql.functions import col, udf, isnan, when, count\n",
    "from pyspark.sql.types import *"
   ]
  },
  {
   "cell_type": "code",
   "execution_count": 6,
   "metadata": {},
   "outputs": [],
   "source": [
    "from sklearn.neighbors import LSHForest, NearestNeighbors\n",
    "from spark_sklearn import GridSearchCV"
   ]
  },
  {
   "cell_type": "code",
   "execution_count": 7,
   "metadata": {},
   "outputs": [],
   "source": [
    "import psutil"
   ]
  },
  {
   "cell_type": "code",
   "execution_count": 8,
   "metadata": {},
   "outputs": [],
   "source": [
    "cpu_count = psutil.cpu_count()\n",
    "av_memory = psutil.virtual_memory().total / (1024.0 ** 3)\n",
    "memory = str(int(0.9 * av_memory)) + 'G'\n",
    "number_of_instances = 1"
   ]
  },
  {
   "cell_type": "code",
   "execution_count": 9,
   "metadata": {},
   "outputs": [
    {
     "data": {
      "text/plain": [
       "(4, '21G')"
      ]
     },
     "execution_count": 9,
     "metadata": {},
     "output_type": "execute_result"
    }
   ],
   "source": [
    "cpu_count, memory"
   ]
  },
  {
   "cell_type": "code",
   "execution_count": 10,
   "metadata": {},
   "outputs": [],
   "source": [
    "conftfos = SparkConf().setAll([('spark.executor.instances',number_of_instances),('spark.executor.cores', cpu_count),('spark.executor.memory', memory),('spark.dynamicAllocation.enabled','False')])\n",
    "\n",
    "sc = SparkContext(master='local', appName='Barcelona',conf=conftfos)\n",
    "spark = SparkSession(sc)"
   ]
  },
  {
   "cell_type": "code",
   "execution_count": 11,
   "metadata": {},
   "outputs": [],
   "source": [
    "BarcelonaFILE = 'Barcelona.csv'\n",
    "AmsterdamFILE = 'Amsterdam.csv'"
   ]
  },
  {
   "cell_type": "code",
   "execution_count": 12,
   "metadata": {},
   "outputs": [
    {
     "data": {
      "text/plain": [
       "DataFrame[id: string, name: string, host_id: string, host_name: string, neighbourhood_group: string, neighbourhood: string, latitude: string, longitude: string, room_type: string, price: string, minimum_nights: string, number_of_reviews: string, last_review: string, reviews_per_month: string, calculated_host_listings_count: string, availability_365: string, City: string]"
      ]
     },
     "execution_count": 12,
     "metadata": {},
     "output_type": "execute_result"
    }
   ],
   "source": [
    "df_Barcelona_listings = spark.read.option(\"header\",\"true\").csv(BarcelonaFILE)\n",
    "df_Barcelona_listings.withColumn('City', lit('Barcelona'))\n",
    "df_Amsterdam_listings = spark.read.option(\"header\",\"true\").csv(AmsterdamFILE)\n",
    "df_Amsterdam_listings.withColumn('City', lit('Amsterdam'))"
   ]
  },
  {
   "cell_type": "code",
   "execution_count": 13,
   "metadata": {},
   "outputs": [],
   "source": [
    "df_listings = df_Amsterdam_listings.union(df_Barcelona_listings)"
   ]
  },
  {
   "cell_type": "code",
   "execution_count": 14,
   "metadata": {},
   "outputs": [
    {
     "data": {
      "text/plain": [
       "Row(id='20621335', name='Clean room Amsterdam. Metro 3min walk.Free parking', host_id='25403329', host_name='Victor', neighbourhood_group=None, neighbourhood='Bijlmer-Oost', latitude='52.319172968245226', longitude='4.981150531499213', room_type='Private room', price='52', minimum_nights='3', number_of_reviews='23', last_review='2017-11-28', reviews_per_month='6.83', calculated_host_listings_count='1', availability_365='12')"
      ]
     },
     "execution_count": 14,
     "metadata": {},
     "output_type": "execute_result"
    }
   ],
   "source": [
    "df_listings.head()"
   ]
  },
  {
   "cell_type": "code",
   "execution_count": 15,
   "metadata": {},
   "outputs": [],
   "source": [
    "listings_names = df_listings.select(col('name')).fillna('')"
   ]
  },
  {
   "cell_type": "code",
   "execution_count": 16,
   "metadata": {},
   "outputs": [
    {
     "name": "stdout",
     "output_type": "stream",
     "text": [
      "+--------------------+\n",
      "|                name|\n",
      "+--------------------+\n",
      "|Clean room Amster...|\n",
      "|Sunny and cozy ro...|\n",
      "|Pop B&B-private r...|\n",
      "|Tastefully furnis...|\n",
      "|Cozy room in the ...|\n",
      "|Great room south ...|\n",
      "|Lovely room in So...|\n",
      "|spacious light ap...|\n",
      "|Amsterdam South S...|\n",
      "|B&B# green oasis ...|\n",
      "|King  bedroom nea...|\n",
      "|Spacious room in ...|\n",
      "|Wow! Laid back to...|\n",
      "|Amsterdam thrive ...|\n",
      "|Large bedroom 15 ...|\n",
      "|Comfortable  room...|\n",
      "|3 rooms in green ...|\n",
      "|Studio Amsterdam ...|\n",
      "|Nice room 15 min ...|\n",
      "|Nice appartment /...|\n",
      "+--------------------+\n",
      "only showing top 20 rows\n",
      "\n"
     ]
    }
   ],
   "source": [
    "listings_names.show()"
   ]
  },
  {
   "cell_type": "code",
   "execution_count": 17,
   "metadata": {},
   "outputs": [],
   "source": [
    "tokenizer = Tokenizer(inputCol=\"name\", outputCol=\"words\")\n",
    "tokenized = tokenizer.transform(listings_names)"
   ]
  },
  {
   "cell_type": "code",
   "execution_count": 18,
   "metadata": {},
   "outputs": [
    {
     "name": "stdout",
     "output_type": "stream",
     "text": [
      "+--------------------+--------------------+\n",
      "|                name|               words|\n",
      "+--------------------+--------------------+\n",
      "|Clean room Amster...|[clean, room, ams...|\n",
      "|Sunny and cozy ro...|[sunny, and, cozy...|\n",
      "|Pop B&B-private r...|[pop, b&b-private...|\n",
      "|Tastefully furnis...|[tastefully, furn...|\n",
      "|Cozy room in the ...|[cozy, room, in, ...|\n",
      "|Great room south ...|[great, room, sou...|\n",
      "|Lovely room in So...|[lovely, room, in...|\n",
      "|spacious light ap...|[spacious, light,...|\n",
      "|Amsterdam South S...|[amsterdam, south...|\n",
      "|B&B# green oasis ...|[b&b#, green, oas...|\n",
      "|King  bedroom nea...|[king, , bedroom,...|\n",
      "|Spacious room in ...|[spacious, room, ...|\n",
      "|Wow! Laid back to...|[wow!, laid, back...|\n",
      "|Amsterdam thrive ...|[amsterdam, thriv...|\n",
      "|Large bedroom 15 ...|[large, bedroom, ...|\n",
      "|Comfortable  room...|[comfortable, , r...|\n",
      "|3 rooms in green ...|[3, rooms, in, gr...|\n",
      "|Studio Amsterdam ...|[studio, amsterda...|\n",
      "|Nice room 15 min ...|[nice, room, 15, ...|\n",
      "|Nice appartment /...|[nice, appartment...|\n",
      "+--------------------+--------------------+\n",
      "only showing top 20 rows\n",
      "\n"
     ]
    }
   ],
   "source": [
    "tokenized.show()"
   ]
  },
  {
   "cell_type": "code",
   "execution_count": 19,
   "metadata": {},
   "outputs": [],
   "source": [
    "remover = StopWordsRemover(inputCol=\"words\", outputCol=\"filtered\")\n",
    "removed = remover.transform(tokenized)"
   ]
  },
  {
   "cell_type": "code",
   "execution_count": 20,
   "metadata": {},
   "outputs": [
    {
     "name": "stdout",
     "output_type": "stream",
     "text": [
      "+--------------------+--------------------+--------------------+\n",
      "|                name|               words|            filtered|\n",
      "+--------------------+--------------------+--------------------+\n",
      "|Clean room Amster...|[clean, room, ams...|[clean, room, ams...|\n",
      "|Sunny and cozy ro...|[sunny, and, cozy...|[sunny, cozy, roo...|\n",
      "|Pop B&B-private r...|[pop, b&b-private...|[pop, b&b-private...|\n",
      "|Tastefully furnis...|[tastefully, furn...|[tastefully, furn...|\n",
      "|Cozy room in the ...|[cozy, room, in, ...|[cozy, room, se, ...|\n",
      "|Great room south ...|[great, room, sou...|[great, room, sou...|\n",
      "|Lovely room in So...|[lovely, room, in...|[lovely, room, so...|\n",
      "|spacious light ap...|[spacious, light,...|[spacious, light,...|\n",
      "|Amsterdam South S...|[amsterdam, south...|[amsterdam, south...|\n",
      "|B&B# green oasis ...|[b&b#, green, oas...|[b&b#, green, oas...|\n",
      "|King  bedroom nea...|[king, , bedroom,...|[king, , bedroom,...|\n",
      "|Spacious room in ...|[spacious, room, ...|[spacious, room, ...|\n",
      "|Wow! Laid back to...|[wow!, laid, back...|[wow!, laid, back...|\n",
      "|Amsterdam thrive ...|[amsterdam, thriv...|[amsterdam, thriv...|\n",
      "|Large bedroom 15 ...|[large, bedroom, ...|[large, bedroom, ...|\n",
      "|Comfortable  room...|[comfortable, , r...|[comfortable, , r...|\n",
      "|3 rooms in green ...|[3, rooms, in, gr...|[3, rooms, green,...|\n",
      "|Studio Amsterdam ...|[studio, amsterda...|[studio, amsterda...|\n",
      "|Nice room 15 min ...|[nice, room, 15, ...|[nice, room, 15, ...|\n",
      "|Nice appartment /...|[nice, appartment...|[nice, appartment...|\n",
      "+--------------------+--------------------+--------------------+\n",
      "only showing top 20 rows\n",
      "\n"
     ]
    }
   ],
   "source": [
    "removed.show()"
   ]
  },
  {
   "cell_type": "code",
   "execution_count": 21,
   "metadata": {},
   "outputs": [],
   "source": [
    "numFeatures = 50"
   ]
  },
  {
   "cell_type": "code",
   "execution_count": 22,
   "metadata": {},
   "outputs": [],
   "source": [
    "hashingTF = HashingTF(inputCol='filtered', outputCol='rawFeatures', numFeatures=numFeatures)\n",
    "listings = hashingTF.transform(removed)\n",
    "idf = IDF(inputCol='rawFeatures', outputCol='VectorSpace')\n",
    "idfModel = idf.fit(listings)\n",
    "tfidf = idfModel.transform(listings)"
   ]
  },
  {
   "cell_type": "code",
   "execution_count": 23,
   "metadata": {},
   "outputs": [
    {
     "name": "stdout",
     "output_type": "stream",
     "text": [
      "+--------------------+--------------------+--------------------+--------------------+--------------------+\n",
      "|                name|               words|            filtered|         rawFeatures|         VectorSpace|\n",
      "+--------------------+--------------------+--------------------+--------------------+--------------------+\n",
      "|Clean room Amster...|[clean, room, ams...|[clean, room, ams...|(50,[7,18,33,40,4...|(50,[7,18,33,40,4...|\n",
      "|Sunny and cozy ro...|[sunny, and, cozy...|[sunny, cozy, roo...|(50,[1,18,20,44,4...|(50,[1,18,20,44,4...|\n",
      "|Pop B&B-private r...|[pop, b&b-private...|[pop, b&b-private...|(50,[11,19,25,37]...|(50,[11,19,25,37]...|\n",
      "|Tastefully furnis...|[tastefully, furn...|[tastefully, furn...|(50,[8,21,28,46],...|(50,[8,21,28,46],...|\n",
      "|Cozy room in the ...|[cozy, room, in, ...|[cozy, room, se, ...|(50,[1,23,28,44],...|(50,[1,23,28,44],...|\n",
      "|Great room south ...|[great, room, sou...|[great, room, sou...|(50,[10,18,44,49]...|(50,[10,18,44,49]...|\n",
      "|Lovely room in So...|[lovely, room, in...|[lovely, room, so...|(50,[26,28,44,49]...|(50,[26,28,44,49]...|\n",
      "|spacious light ap...|[spacious, light,...|[spacious, light,...|(50,[10,25,28,29]...|(50,[10,25,28,29]...|\n",
      "|Amsterdam South S...|[amsterdam, south...|[amsterdam, south...|(50,[8,28,49],[1....|(50,[8,28,49],[2....|\n",
      "|B&B# green oasis ...|[b&b#, green, oas...|[b&b#, green, oas...|(50,[7,15,23,25,3...|(50,[7,15,23,25,3...|\n",
      "|King  bedroom nea...|[king, , bedroom,...|[king, , bedroom,...|(50,[22,24,27,30,...|(50,[22,24,27,30,...|\n",
      "|Spacious room in ...|[spacious, room, ...|[spacious, room, ...|(50,[4,29,36,44],...|(50,[4,29,36,44],...|\n",
      "|Wow! Laid back to...|[wow!, laid, back...|[wow!, laid, back...|(50,[1,3,14,28,30...|(50,[1,3,14,28,30...|\n",
      "|Amsterdam thrive ...|[amsterdam, thriv...|[amsterdam, thriv...|(50,[7,28,35],[1....|(50,[7,28,35],[2....|\n",
      "|Large bedroom 15 ...|[large, bedroom, ...|[large, bedroom, ...|(50,[7,23,27,28,3...|(50,[7,23,27,28,3...|\n",
      "|Comfortable  room...|[comfortable, , r...|[comfortable, , r...|(50,[11,22,36,39,...|(50,[11,22,36,39,...|\n",
      "|3 rooms in green ...|[3, rooms, in, gr...|[3, rooms, green,...|(50,[18,25,31],[2...|(50,[18,25,31],[3...|\n",
      "|Studio Amsterdam ...|[studio, amsterda...|[studio, amsterda...|(50,[8,12,27,28,4...|(50,[8,12,27,28,4...|\n",
      "|Nice room 15 min ...|[nice, room, 15, ...|[nice, room, 15, ...|(50,[7,20,23,24,3...|(50,[7,20,23,24,3...|\n",
      "|Nice appartment /...|[nice, appartment...|[nice, appartment...|(50,[7,20,23,25,3...|(50,[7,20,23,25,3...|\n",
      "+--------------------+--------------------+--------------------+--------------------+--------------------+\n",
      "only showing top 20 rows\n",
      "\n"
     ]
    }
   ],
   "source": [
    "tfidf.show()"
   ]
  },
  {
   "cell_type": "code",
   "execution_count": 24,
   "metadata": {},
   "outputs": [],
   "source": [
    "#train_size = 500"
   ]
  },
  {
   "cell_type": "code",
   "execution_count": 25,
   "metadata": {},
   "outputs": [],
   "source": [
    "#tfidf_lim = tfidf.limit(train_size)"
   ]
  },
  {
   "cell_type": "code",
   "execution_count": 26,
   "metadata": {},
   "outputs": [
    {
     "data": {
      "text/plain": [
       "list"
      ]
     },
     "execution_count": 26,
     "metadata": {},
     "output_type": "execute_result"
    }
   ],
   "source": [
    "type(tfidf.select('VectorSpace').collect())"
   ]
  },
  {
   "cell_type": "code",
   "execution_count": 27,
   "metadata": {},
   "outputs": [],
   "source": [
    "data = np.asarray(tfidf.select('VectorSpace').collect())"
   ]
  },
  {
   "cell_type": "code",
   "execution_count": 28,
   "metadata": {},
   "outputs": [
    {
     "data": {
      "text/plain": [
       "(37111, 1, 50)"
      ]
     },
     "execution_count": 28,
     "metadata": {},
     "output_type": "execute_result"
    }
   ],
   "source": [
    "data.shape"
   ]
  },
  {
   "cell_type": "code",
   "execution_count": 29,
   "metadata": {},
   "outputs": [],
   "source": [
    "data = data.reshape((data.shape[0], data.shape[2]))"
   ]
  },
  {
   "cell_type": "code",
   "execution_count": 30,
   "metadata": {},
   "outputs": [
    {
     "data": {
      "text/plain": [
       "(37111, 50)"
      ]
     },
     "execution_count": 30,
     "metadata": {},
     "output_type": "execute_result"
    }
   ],
   "source": [
    "data.shape"
   ]
  },
  {
   "cell_type": "code",
   "execution_count": 31,
   "metadata": {},
   "outputs": [],
   "source": [
    "def scorer(estimator, X):\n",
    "    estimator.fit(X)\n",
    "    n_neighbors = estimator.get_params()['n_neighbors']\n",
    "    neighbors_approx = estimator.kneighbors(X, return_distance=False)\n",
    "    \n",
    "    nbrs = NearestNeighbors(n_neighbors=n_neighbors, algorithm='brute', metric='cosine').fit(X)\n",
    "    neighbors_exact = nbrs.kneighbors(X, return_distance=False)\n",
    "    \n",
    "    accuracy = []\n",
    "    for i in range(len(neighbors_approx)):\n",
    "        accuracy.append(np.sum(np.equal(neighbors_approx[i], neighbors_exact[i]))/n_neighbors)\n",
    "    \n",
    "    result = np.mean(accuracy)\n",
    "    return result"
   ]
  },
  {
   "cell_type": "code",
   "execution_count": 32,
   "metadata": {},
   "outputs": [
    {
     "name": "stderr",
     "output_type": "stream",
     "text": [
      "/usr/local/lib/python3.5/dist-packages/sklearn/neighbors/approximate.py:220: DeprecationWarning: LSHForest has poor performance and has been deprecated in 0.19. It will be removed in version 0.21.\n",
      "  DeprecationWarning)\n"
     ]
    }
   ],
   "source": [
    "param_grid = {\n",
    "    'n_estimators':[20,30,40],\n",
    "    'min_hash_match':[3,4,5],\n",
    "    'n_candidates':[50,75,100],\n",
    "    'n_neighbors': [3],\n",
    "}\n",
    "lshf = LSHForest(random_state=7)\n",
    "grid_search = GridSearchCV(sc=sc, estimator=lshf, param_grid=param_grid, scoring=scorer)"
   ]
  },
  {
   "cell_type": "code",
   "execution_count": 33,
   "metadata": {},
   "outputs": [
    {
     "name": "stderr",
     "output_type": "stream",
     "text": [
      "/usr/local/lib/python3.5/dist-packages/sklearn/neighbors/approximate.py:220: DeprecationWarning: LSHForest has poor performance and has been deprecated in 0.19. It will be removed in version 0.21.\n",
      "  DeprecationWarning)\n",
      "/usr/local/lib/python3.5/dist-packages/sklearn/neighbors/approximate.py:220: DeprecationWarning: LSHForest has poor performance and has been deprecated in 0.19. It will be removed in version 0.21.\n",
      "  DeprecationWarning)\n"
     ]
    },
    {
     "name": "stdout",
     "output_type": "stream",
     "text": [
      "CPU times: user 5.08 s, sys: 1.68 s, total: 6.76 s\n",
      "Wall time: 21h 8min 15s\n"
     ]
    },
    {
     "data": {
      "text/plain": [
       "GridSearchCV(cv=None, error_score='raise',\n",
       "       estimator=LSHForest(min_hash_match=4, n_candidates=50, n_estimators=10, n_neighbors=5,\n",
       "     radius=1.0, radius_cutoff_ratio=0.9, random_state=7),\n",
       "       fit_params={}, iid=True, n_jobs=1,\n",
       "       param_grid={'min_hash_match': [3, 4, 5], 'n_estimators': [20, 30, 40], 'n_neighbors': [3], 'n_candidates': [50, 75, 100]},\n",
       "       pre_dispatch='2*n_jobs', refit=True, return_train_score=True,\n",
       "       sc=<SparkContext master=local appName=Barcelona>,\n",
       "       scoring=<function scorer at 0x7f446c0f6730>, verbose=0)"
      ]
     },
     "execution_count": 33,
     "metadata": {},
     "output_type": "execute_result"
    }
   ],
   "source": [
    "%%time\n",
    "grid_search.fit(data)"
   ]
  },
  {
   "cell_type": "code",
   "execution_count": 34,
   "metadata": {},
   "outputs": [],
   "source": [
    "best_estimator = grid_search.best_estimator_"
   ]
  },
  {
   "cell_type": "code",
   "execution_count": 35,
   "metadata": {},
   "outputs": [
    {
     "data": {
      "text/plain": [
       "LSHForest(min_hash_match=3, n_candidates=100, n_estimators=40, n_neighbors=3,\n",
       "     radius=1.0, radius_cutoff_ratio=0.9, random_state=7)"
      ]
     },
     "execution_count": 35,
     "metadata": {},
     "output_type": "execute_result"
    }
   ],
   "source": [
    "best_estimator"
   ]
  },
  {
   "cell_type": "code",
   "execution_count": 36,
   "metadata": {},
   "outputs": [
    {
     "name": "stdout",
     "output_type": "stream",
     "text": [
      "'GridSearchCV' object has no attribute 'best_score_'\n",
      "Sad. But true :(\n"
     ]
    }
   ],
   "source": [
    "try:\n",
    "    grid_search.best_score_\n",
    "except Exception as e:\n",
    "    print(e)\n",
    "    print(\"Sad. But true :(\")"
   ]
  },
  {
   "cell_type": "code",
   "execution_count": 37,
   "metadata": {},
   "outputs": [],
   "source": [
    "best_score = scorer(best_estimator, data)"
   ]
  },
  {
   "cell_type": "code",
   "execution_count": 38,
   "metadata": {},
   "outputs": [
    {
     "data": {
      "text/plain": [
       "0.792927523735101"
      ]
     },
     "execution_count": 38,
     "metadata": {},
     "output_type": "execute_result"
    }
   ],
   "source": [
    "best_score"
   ]
  }
 ],
 "metadata": {
  "kernelspec": {
   "display_name": "Python 3",
   "language": "python",
   "name": "python3"
  },
  "language_info": {
   "codemirror_mode": {
    "name": "ipython",
    "version": 3
   },
   "file_extension": ".py",
   "mimetype": "text/x-python",
   "name": "python",
   "nbconvert_exporter": "python",
   "pygments_lexer": "ipython3",
   "version": "3.6.5"
  }
 },
 "nbformat": 4,
 "nbformat_minor": 2
}
